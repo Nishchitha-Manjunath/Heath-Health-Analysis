{
  "nbformat": 4,
  "nbformat_minor": 0,
  "metadata": {
    "colab": {
      "name": "Heart_Health_Analysis.ipynb",
      "provenance": [],
      "collapsed_sections": []
    },
    "kernelspec": {
      "display_name": "Python 3",
      "language": "python",
      "name": "python3"
    }
  },
  "cells": [
    {
      "cell_type": "markdown",
      "metadata": {
        "id": "4ZpdJEiO3zg0"
      },
      "source": [
        "EXPLORATORY  DATA ANALYSIS ON RISK FACTORS OF HEART DISEASES IN MICHIGAN OVER YEARS\n",
        "\n",
        "Cardiovascular disease (CVD) is Michigan’s number one killer. In fact, Michigan consistently ranks high among states with the worst rates of CVD.\n",
        "\n",
        "**OBJECTIVE**: To know various risk factors that are contributing for heart disesases in michigan."
      ]
    },
    {
      "cell_type": "code",
      "metadata": {
        "id": "nnqciibD3uKR",
        "colab": {
          "base_uri": "https://localhost:8080/",
          "height": 224
        },
        "outputId": "96790037-2943-42a4-de4b-06b214fa5de4"
      },
      "source": [
        "!pip install seaborn --upgrade\n",
        "!pip install --upgrade lxml\n",
        "import pandas as pnd\n",
        "import numpy as np\n",
        "import seaborn as sb\n",
        "import matplotlib.pyplot as plt\n",
        "from textwrap import wrap\n",
        "%matplotlib inline"
      ],
      "execution_count": null,
      "outputs": [
        {
          "output_type": "stream",
          "text": [
            "Requirement already up-to-date: seaborn in /usr/local/lib/python3.6/dist-packages (0.9.0)\n",
            "Requirement already satisfied, skipping upgrade: scipy>=0.14.0 in /usr/local/lib/python3.6/dist-packages (from seaborn) (1.1.0)\n",
            "Requirement already satisfied, skipping upgrade: numpy>=1.9.3 in /usr/local/lib/python3.6/dist-packages (from seaborn) (1.14.6)\n",
            "Requirement already satisfied, skipping upgrade: pandas>=0.15.2 in /usr/local/lib/python3.6/dist-packages (from seaborn) (0.22.0)\n",
            "Requirement already satisfied, skipping upgrade: matplotlib>=1.4.3 in /usr/local/lib/python3.6/dist-packages (from seaborn) (2.1.2)\n",
            "Requirement already satisfied, skipping upgrade: python-dateutil>=2 in /usr/local/lib/python3.6/dist-packages (from pandas>=0.15.2->seaborn) (2.5.3)\n",
            "Requirement already satisfied, skipping upgrade: pytz>=2011k in /usr/local/lib/python3.6/dist-packages (from pandas>=0.15.2->seaborn) (2018.7)\n",
            "Requirement already satisfied, skipping upgrade: six>=1.10 in /usr/local/lib/python3.6/dist-packages (from matplotlib>=1.4.3->seaborn) (1.11.0)\n",
            "Requirement already satisfied, skipping upgrade: pyparsing!=2.0.4,!=2.1.2,!=2.1.6,>=2.0.1 in /usr/local/lib/python3.6/dist-packages (from matplotlib>=1.4.3->seaborn) (2.3.0)\n",
            "Requirement already satisfied, skipping upgrade: cycler>=0.10 in /usr/local/lib/python3.6/dist-packages (from matplotlib>=1.4.3->seaborn) (0.10.0)\n",
            "Requirement already up-to-date: lxml in /usr/local/lib/python3.6/dist-packages (4.2.5)\n"
          ],
          "name": "stdout"
        }
      ]
    },
    {
      "cell_type": "markdown",
      "metadata": {
        "id": "9AnUaVCKeW5c"
      },
      "source": [
        "####Data  sources:\n",
        "\n",
        "- https://catalog.data.gov/dataset/500-cities-local-data-for-better-health-2016-release-7a5c9\n",
        "\n",
        "- https://catalog.data.gov/dataset/nutrition-physical-activity-and-obesity-policy-and-environmental-data-3f4c7\n",
        "\n",
        "- https://catalog.data.gov/dataset/behavioral-risk-factor-data-tobacco-use-2011-to-present-e0ad1\n",
        "\n",
        "- https://catalog.data.gov/dataset/behavioral-risk-factor-data-heart-disease-amp-stroke-prevention-67c1f\n",
        "\n",
        "- https://catalog.data.gov/dataset/age-adjusted-death-rates-for-the-top-10-leading-causes-of-death-united-states-2013\n",
        "\n",
        "- https://storage.googleapis.com/dse6000_anupama/scraped_yelp_results_for_FastFood2.csv\n",
        "\n"
      ]
    },
    {
      "cell_type": "code",
      "metadata": {
        "id": "nZZFKkPXuVvi"
      },
      "source": [
        "deathCauses=pnd.read_csv(r\"https://storage.googleapis.com/dse6000/NCHS_-_Leading_Causes_of_Death__United_States.csv\")\n",
        "riskFactorNutrition= pnd.read_csv(r\"https://storage.googleapis.com/dse6000/Nutrition__Physical_Activity__and_Obesity_-_Behavioral_Risk_Factor_Surveillance_System.csv\")\n",
        "heartData = pnd.read_csv(r'https://storage.googleapis.com/dse6000/Risk_factors_michigan.csv')\n",
        "citiesData = pnd.read_csv(r'https://storage.googleapis.com/dse6000/500_Cities__Local_Data_for_Better_Health__2018_release.csv')\n",
        "tobacoFactor= pnd.read_csv(r\"https://storage.googleapis.com/dse6000/Behavioral_Risk_Factor_Data__Tobacco_Use__2011_to_present_.csv\")\n",
        "fastFoodRestaurants= pnd.read_csv(r\"https://storage.googleapis.com/dse6000/scraped_yelp_results_for_FastFood2.csv\",encoding = \"ISO-8859-1\")\n",
        "\n",
        "\n",
        "\n",
        "\n",
        "\n"
      ],
      "execution_count": null,
      "outputs": []
    },
    {
      "cell_type": "markdown",
      "metadata": {
        "id": "vYmVwlycFbdT"
      },
      "source": [
        "####Data Cleaning Steps:\n",
        "1.To plot graphs accurately with correct data types, converted the datatypes of columns Deaths and Age-adjusted Death Rate to integer and float types respectively.\n",
        "\n",
        "2.Replaced _ with null string which makes us easy to access the column names\n",
        "\n",
        "3.Dropped some columns which are not required for our analysis.\n",
        "\n",
        "\n",
        " There are further more data cleaning steps which are done in our analysis on the go  to accurately analyse the data."
      ]
    },
    {
      "cell_type": "code",
      "metadata": {
        "id": "jfxnVrGbvdp5"
      },
      "source": [
        "deathCauses['Deaths']=deathCauses['Deaths'].str.replace(',', '').astype('int')\n",
        "deathCauses['Age-adjusted Death Rate']=pnd.to_numeric(deathCauses['Age-adjusted Death Rate'],errors='coerce')\n",
        "heartData.columns=heartData.columns.str.replace(\"_\",\"\")\n",
        "heartData.drop([\"Datasource\",\"PriorityArea1\",\"PriorityArea2\",\"PriorityArea3\",\"PriorityArea4\",\"BreakoutCategoryID\",\"BreakOutID\",\"LocationID\"],inplace=True,axis=1)\n",
        "\n"
      ],
      "execution_count": null,
      "outputs": []
    },
    {
      "cell_type": "markdown",
      "metadata": {
        "id": "zs_xlgzRFaQi"
      },
      "source": [
        "We are beginning our analysis with understanding the trend of death rates due to Heart diseases. deathCauses dataframe information and top 5 rows are listed below."
      ]
    },
    {
      "cell_type": "code",
      "metadata": {
        "id": "KDRRKOAHf84X",
        "colab": {
          "base_uri": "https://localhost:8080/",
          "height": 204
        },
        "outputId": "b4372daf-a0b0-40f6-f1fa-842a7d4fdad7"
      },
      "source": [
        "deathCauses.info()"
      ],
      "execution_count": null,
      "outputs": [
        {
          "output_type": "stream",
          "text": [
            "<class 'pandas.core.frame.DataFrame'>\n",
            "RangeIndex: 10296 entries, 0 to 10295\n",
            "Data columns (total 6 columns):\n",
            "Year                       10296 non-null int64\n",
            "113 Cause Name             10296 non-null object\n",
            "Cause Name                 10296 non-null object\n",
            "State                      10296 non-null object\n",
            "Deaths                     10296 non-null int64\n",
            "Age-adjusted Death Rate    10268 non-null float64\n",
            "dtypes: float64(1), int64(2), object(3)\n",
            "memory usage: 482.7+ KB\n"
          ],
          "name": "stdout"
        }
      ]
    },
    {
      "cell_type": "code",
      "metadata": {
        "id": "d7OQLKsZ2cUe",
        "colab": {
          "base_uri": "https://localhost:8080/",
          "height": 204
        },
        "outputId": "122e949b-8874-4c0c-e7f6-e689c1ceaeae"
      },
      "source": [
        "deathCauses.head()"
      ],
      "execution_count": null,
      "outputs": [
        {
          "output_type": "execute_result",
          "data": {
            "text/html": [
              "<div>\n",
              "<style scoped>\n",
              "    .dataframe tbody tr th:only-of-type {\n",
              "        vertical-align: middle;\n",
              "    }\n",
              "\n",
              "    .dataframe tbody tr th {\n",
              "        vertical-align: top;\n",
              "    }\n",
              "\n",
              "    .dataframe thead th {\n",
              "        text-align: right;\n",
              "    }\n",
              "</style>\n",
              "<table border=\"1\" class=\"dataframe\">\n",
              "  <thead>\n",
              "    <tr style=\"text-align: right;\">\n",
              "      <th></th>\n",
              "      <th>Year</th>\n",
              "      <th>113 Cause Name</th>\n",
              "      <th>Cause Name</th>\n",
              "      <th>State</th>\n",
              "      <th>Deaths</th>\n",
              "      <th>Age-adjusted Death Rate</th>\n",
              "    </tr>\n",
              "  </thead>\n",
              "  <tbody>\n",
              "    <tr>\n",
              "      <th>0</th>\n",
              "      <td>2016</td>\n",
              "      <td>Accidents (unintentional injuries) (V01-X59,Y8...</td>\n",
              "      <td>Unintentional injuries</td>\n",
              "      <td>Alabama</td>\n",
              "      <td>2755</td>\n",
              "      <td>55.5</td>\n",
              "    </tr>\n",
              "    <tr>\n",
              "      <th>1</th>\n",
              "      <td>2016</td>\n",
              "      <td>Accidents (unintentional injuries) (V01-X59,Y8...</td>\n",
              "      <td>Unintentional injuries</td>\n",
              "      <td>Alaska</td>\n",
              "      <td>439</td>\n",
              "      <td>63.1</td>\n",
              "    </tr>\n",
              "    <tr>\n",
              "      <th>2</th>\n",
              "      <td>2016</td>\n",
              "      <td>Accidents (unintentional injuries) (V01-X59,Y8...</td>\n",
              "      <td>Unintentional injuries</td>\n",
              "      <td>Arizona</td>\n",
              "      <td>4010</td>\n",
              "      <td>54.2</td>\n",
              "    </tr>\n",
              "    <tr>\n",
              "      <th>3</th>\n",
              "      <td>2016</td>\n",
              "      <td>Accidents (unintentional injuries) (V01-X59,Y8...</td>\n",
              "      <td>Unintentional injuries</td>\n",
              "      <td>Arkansas</td>\n",
              "      <td>1604</td>\n",
              "      <td>51.8</td>\n",
              "    </tr>\n",
              "    <tr>\n",
              "      <th>4</th>\n",
              "      <td>2016</td>\n",
              "      <td>Accidents (unintentional injuries) (V01-X59,Y8...</td>\n",
              "      <td>Unintentional injuries</td>\n",
              "      <td>California</td>\n",
              "      <td>13213</td>\n",
              "      <td>32.0</td>\n",
              "    </tr>\n",
              "  </tbody>\n",
              "</table>\n",
              "</div>"
            ],
            "text/plain": [
              "   Year                                     113 Cause Name  \\\n",
              "0  2016  Accidents (unintentional injuries) (V01-X59,Y8...   \n",
              "1  2016  Accidents (unintentional injuries) (V01-X59,Y8...   \n",
              "2  2016  Accidents (unintentional injuries) (V01-X59,Y8...   \n",
              "3  2016  Accidents (unintentional injuries) (V01-X59,Y8...   \n",
              "4  2016  Accidents (unintentional injuries) (V01-X59,Y8...   \n",
              "\n",
              "               Cause Name       State  Deaths  Age-adjusted Death Rate  \n",
              "0  Unintentional injuries     Alabama    2755                     55.5  \n",
              "1  Unintentional injuries      Alaska     439                     63.1  \n",
              "2  Unintentional injuries     Arizona    4010                     54.2  \n",
              "3  Unintentional injuries    Arkansas    1604                     51.8  \n",
              "4  Unintentional injuries  California   13213                     32.0  "
            ]
          },
          "metadata": {
            "tags": []
          },
          "execution_count": 65
        }
      ]
    },
    {
      "cell_type": "markdown",
      "metadata": {
        "id": "KYo3iA20Ht9r"
      },
      "source": [
        "\n",
        "Next, we are interested in cardiovascular diesease death rate for entire United States and compare it with Michigan state over the years.\n"
      ]
    },
    {
      "cell_type": "code",
      "metadata": {
        "id": "W8p1LC2KYXaw",
        "colab": {
          "base_uri": "https://localhost:8080/",
          "height": 471
        },
        "outputId": "706e90f4-4d02-4105-a21d-60f0e2a2a27b"
      },
      "source": [
        "deathCauses=deathCauses[(deathCauses['Cause Name']=='Heart disease')&((deathCauses['State']=='United States')|(deathCauses['State']=='Michigan'))]\n",
        "\n",
        "year_data = pnd.DataFrame(deathCauses.groupby(['Year','State'])['Deaths'].mean()).reset_index()\n",
        "\n",
        "sb.catplot(x=\"Year\", y=\"Age-adjusted Death Rate\",\n",
        "           hue='State',\n",
        "            data=deathCauses, kind=\"point\", ci=None,legend_out=False,\n",
        "            height=6, aspect=1.5)\n",
        "plt.title('Age-adjusted Death Rate due to heart disease in Michigan and US residents ')"
      ],
      "execution_count": null,
      "outputs": [
        {
          "output_type": "execute_result",
          "data": {
            "text/plain": [
              "Text(0.5,1,'Age-adjusted Death Rate due to heart disease in Michigan and US residents ')"
            ]
          },
          "metadata": {
            "tags": []
          },
          "execution_count": 66
        },
        {
          "output_type": "display_data",
          "data": {
            "image/png": "[encoded data removed]",
            "text/plain": [
              "<matplotlib.figure.Figure at 0x7f215e28b9e8>"
            ]
          },
          "metadata": {
            "tags": []
          }
        }
      ]
    },
    {
      "cell_type": "markdown",
      "metadata": {
        "id": "oTX957vvISi6"
      },
      "source": [
        "The above plot shows us that Michigan State has more death rate than the national average which is an alarming situation for people to focus on their lifestyle.In the plot, eventhough there is good decreasing rate , there is small increase and increase in percentage over the years 2011-2016. "
      ]
    },
    {
      "cell_type": "markdown",
      "metadata": {
        "id": "ifRHry9vOBT0"
      },
      "source": [
        "###We will analyze the risk factors that are causing the cardiovascular diseases in michigan.\n",
        "For this analysis, heartData data set is used and filtered to contain only risk factors information ."
      ]
    },
    {
      "cell_type": "code",
      "metadata": {
        "id": "W5VIDqQE7Oii"
      },
      "source": [
        "riskFactors=heartData[(heartData['LocationAbbr']=='MI')& (heartData['Category']=='Risk Factors')]"
      ],
      "execution_count": null,
      "outputs": []
    },
    {
      "cell_type": "code",
      "metadata": {
        "id": "Q3Xr6dEvaS8F",
        "colab": {
          "base_uri": "https://localhost:8080/",
          "height": 51
        },
        "outputId": "1b68832b-8043-4dbd-c6cb-5a37cb9ec7fe"
      },
      "source": [
        "riskFactors['Topic'].unique()"
      ],
      "execution_count": null,
      "outputs": [
        {
          "output_type": "execute_result",
          "data": {
            "text/plain": [
              "array(['Cholesterol Abnormalities', 'Diabetes', 'Nutrition', 'Obesity',\n",
              "       'Physical Inactivity', 'Smoking', 'Hypertension'], dtype=object)"
            ]
          },
          "metadata": {
            "tags": []
          },
          "execution_count": 68
        }
      ]
    },
    {
      "cell_type": "markdown",
      "metadata": {
        "id": "YgW6FR6Ua4Al"
      },
      "source": [
        "The above code lists out the health problems  such as Obesity,Hypertension  are making people prone to heart diseases.\n",
        "Which factor is reported to be the most influencing factor can be answered by below graph.\n"
      ]
    },
    {
      "cell_type": "code",
      "metadata": {
        "id": "oM47FUkZ7Oi-",
        "colab": {
          "base_uri": "https://localhost:8080/",
          "height": 312
        },
        "outputId": "2e28bd0c-0f48-4c99-af7d-04b5730bb438"
      },
      "source": [
        "riskFactors=riskFactors[riskFactors[\"DataValueTypeID\"]=='AgeStdz']\n",
        "riskFactors=riskFactors[riskFactors['BreakOutCategory'] != 'Overall']\n",
        "riskFactors.groupby(['Topic'])['DataValue'].mean().plot(kind='barh')\n",
        "plt.title(\"Risk factors associated with heart diseases\")\n",
        "plt.xlabel(\"Percentage\")\n",
        "plt.ylabel(\"Risk Factors\")"
      ],
      "execution_count": null,
      "outputs": [
        {
          "output_type": "execute_result",
          "data": {
            "text/plain": [
              "Text(0,0.5,'Risk Factors')"
            ]
          },
          "metadata": {
            "tags": []
          },
          "execution_count": 69
        },
        {
          "output_type": "display_data",
          "data": {
            "image/png": "[encoded data removed]",
            "text/plain": [
              "<matplotlib.figure.Figure at 0x7f21624615f8>"
            ]
          },
          "metadata": {
            "tags": []
          }
        }
      ]
    },
    {
      "cell_type": "markdown",
      "metadata": {
        "id": "x7E-iJRpLWgO"
      },
      "source": [
        "The above plot depicts us that physical inactivity and lack of nutrition are the major causes for heart problems in michigan . Now let us concentrate on each risk factor and know how michigan state is reported these over years."
      ]
    },
    {
      "cell_type": "markdown",
      "metadata": {
        "id": "pjvMmGP6bOi5"
      },
      "source": [
        "####Many epidemiological studies have indicated a protective role for a diet rich in fruits and vegetables against the development and progression of cardiovascular disease (CVD), one of the leading causes of morbidity and mortality worldwide. Physical inactivity and unhealthy eating contribute to  CVD conditions.\n",
        "\n",
        "So exploring nuriskFactorNutrition data set given by BRFSS which surveyed people across the michigan and recorded thier healthy habits such as nutritious food intake,good amount of physical activity and obesity. \n",
        "\n"
      ]
    },
    {
      "cell_type": "markdown",
      "metadata": {
        "id": "FP-BqMl7bYSU"
      },
      "source": [
        "####Physical Inactivity\n",
        "####ASSUMPTION:\n",
        "\n",
        "We are assuming that lack of proper physical activity may lead to cardiovascular disease and check what is the activity level of michigan state over years."
      ]
    },
    {
      "cell_type": "code",
      "metadata": {
        "id": "UeW7VoUyRAR2"
      },
      "source": [
        "riskFactorNutrition=riskFactorNutrition[(riskFactorNutrition['LocationAbbr']=='MI')&(\n",
        "                                     (riskFactorNutrition['YearStart']==2011)|(riskFactorNutrition['YearStart']==2013)|(riskFactorNutrition['YearStart']==2015))]"
      ],
      "execution_count": null,
      "outputs": []
    },
    {
      "cell_type": "code",
      "metadata": {
        "id": "_oHaNgxO8Qbx"
      },
      "source": [
        "\n",
        "physicalActivity=riskFactorNutrition[(riskFactorNutrition['Class']=='Physical Activity') & (riskFactorNutrition['Total']=='Total') ]"
      ],
      "execution_count": null,
      "outputs": []
    },
    {
      "cell_type": "markdown",
      "metadata": {
        "id": "2rgHIye1PA4O"
      },
      "source": [
        "Data cleaning:\n",
        "\n",
        "As we are analyzing the percentages of physical activities, we are replacing the long questions to short terms for better interpretability.\n",
        "\n"
      ]
    },
    {
      "cell_type": "code",
      "metadata": {
        "id": "48Tj1Lcaqxgu"
      },
      "source": [
        "physicalActivity=physicalActivity.replace(['Percent of adults who engage in no leisure-time physical activity','Percent of adults who engage in muscle-strengthening activities on 2 or more days a week','Percent of adults who achieve at least 150 minutes a week of moderate-intensity aerobic physical activity or 75 minutes a week of vigorous-intensity aerobic activity (or an equivalent combination)','Percent of adults who achieve at least 300 minutes a week of moderate-intensity aerobic physical activity or 150 minutes a week of vigorous-intensity aerobic activity (or an equivalent combination)','Percent of adults who achieve at least 150 minutes a week of moderate-intensity aerobic physical activity or 75 minutes a week of vigorous-intensity aerobic physical activity and engage in muscle-strengthening activities on 2 or more days a week'],['no physical activity','low intense activities','medium intense activities','high intense activities','moderate intense activities'])"
      ],
      "execution_count": null,
      "outputs": []
    },
    {
      "cell_type": "code",
      "metadata": {
        "id": "qaCpupltPyvb"
      },
      "source": [
        ""
      ],
      "execution_count": null,
      "outputs": []
    },
    {
      "cell_type": "markdown",
      "metadata": {
        "id": "a8WF8ndWfaFc"
      },
      "source": [
        "Plotting the graph to understand the trend of how vigourosly physical activities are done by residents of michigan."
      ]
    },
    {
      "cell_type": "code",
      "metadata": {
        "id": "Kgv-AD_M7OjG",
        "colab": {
          "base_uri": "https://localhost:8080/",
          "height": 399
        },
        "outputId": "49b76572-3b7e-4445-a611-885ba0aeb1b7"
      },
      "source": [
        "labels = [ '\\n'.join(wrap(l, 150)) for l in physicalActivity['Question']]\n",
        "sb.catplot(x=\"YearStart\", y=\"Data_Value\", hue=\"Question\",kind='point', ci=None,data=physicalActivity)\n",
        "plt.title(\"Physical activities observed in Michigan \")\n",
        "plt.xlabel(\"Year\")\n",
        "plt.ylabel(\"Percentage\")\n"
      ],
      "execution_count": null,
      "outputs": [
        {
          "output_type": "execute_result",
          "data": {
            "text/plain": [
              "Text(43.5347,0.5,'Percentage')"
            ]
          },
          "metadata": {
            "tags": []
          },
          "execution_count": 88
        },
        {
          "output_type": "display_data",
          "data": {
            "image/png": "[encoded data removed]",
            "text/plain": [
              "<matplotlib.figure.Figure at 0x7f215f478400>"
            ]
          },
          "metadata": {
            "tags": []
          }
        }
      ]
    },
    {
      "cell_type": "markdown",
      "metadata": {
        "id": "eXYHWSyZUNqz"
      },
      "source": [
        "From the above plot it is clear that the percentage of poeple who do medium intensity workout are more over the years than who do high intensity workout. No physical inactivity also shows a significant percentage due to which poeple are more prone to cardiovascular diseases. People who are inactive has increased from 2013 to 2015 which is a warning sign.\n"
      ]
    },
    {
      "cell_type": "markdown",
      "metadata": {
        "id": "h2S_dqbiVB2J"
      },
      "source": [
        "###Lack of Nutrition"
      ]
    },
    {
      "cell_type": "markdown",
      "metadata": {
        "id": "rWryXBWib3Vb"
      },
      "source": [
        "####ASSUMPTION\n",
        "\n",
        "Diet is an important risk factor in  heart disease. Food-related risk factors include obesity, high blood pressure, uncontrolled diabetes and a diet high in saturated fats. A low-saturated fat, high-fibre, high plant food diet can substantially reduce the risk of developing heart disease. We are assuming that poeple who eat less fruits and vegetables are more prone to cardiovascular diseases"
      ]
    },
    {
      "cell_type": "code",
      "metadata": {
        "id": "IETL18lEOu1u"
      },
      "source": [
        "\n",
        "\n",
        "#riskFactorNutrition=riskFactorNutrition[(riskFactorNutrition['LocationAbbr']=='MI')]"
      ],
      "execution_count": null,
      "outputs": []
    },
    {
      "cell_type": "code",
      "metadata": {
        "id": "GPBnOeLi7OjK"
      },
      "source": [
        "nutritionData=riskFactorNutrition[(riskFactorNutrition['Class']=='Fruits and Vegetables') & (riskFactorNutrition['Total']=='Total') ]"
      ],
      "execution_count": null,
      "outputs": []
    },
    {
      "cell_type": "code",
      "metadata": {
        "id": "JKs-00Z87OjN",
        "colab": {
          "base_uri": "https://localhost:8080/",
          "height": 453
        },
        "outputId": "0640f5c5-c025-45f4-d940-e17c1b5c2af3"
      },
      "source": [
        "'''\n",
        "sb.barplot(x=\"YearStart\", y=\"Data_Value\", hue=\"Question\", ci=None,\n",
        "            data=nutritionData)\n",
        "plt.title(\"Nutrition intake over years \")\n",
        "plt.xlabel(\"Year\")\n",
        "plt.ylabel(\"Percentage\")\n",
        "\n",
        "'''\n",
        "\n",
        "\n",
        "\n",
        "labels = [ '\\n'.join(wrap(l, 150)) for l in nutritionData['Question']]\n",
        "\n",
        "sb.factorplot(x=\"YearStart\", y=\"Data_Value\", hue=\"Question\", ci=None,\n",
        "            data=nutritionData)\n",
        "plt.title(\"Nutrition intake over years \")\n",
        "plt.xlabel(\"Year\")\n",
        "plt.ylabel(\"Percentage\")\n",
        "\n",
        "\n"
      ],
      "execution_count": null,
      "outputs": [
        {
          "output_type": "stream",
          "text": [
            "/usr/local/lib/python3.6/dist-packages/seaborn/categorical.py:3666: UserWarning: The `factorplot` function has been renamed to `catplot`. The original name will be removed in a future release. Please update your code. Note that the default `kind` in `factorplot` (`'point'`) has changed `'strip'` in `catplot`.\n",
            "  warnings.warn(msg)\n"
          ],
          "name": "stderr"
        },
        {
          "output_type": "execute_result",
          "data": {
            "text/plain": [
              "Text(85.5278,0.5,'Percentage')"
            ]
          },
          "metadata": {
            "tags": []
          },
          "execution_count": 76
        },
        {
          "output_type": "display_data",
          "data": {
            "image/png": "[encoded data removed]",
            "text/plain": [
              "<matplotlib.figure.Figure at 0x7f2162470ba8>"
            ]
          },
          "metadata": {
            "tags": []
          }
        }
      ]
    },
    {
      "cell_type": "markdown",
      "metadata": {
        "id": "nsrNKfPgYr2o"
      },
      "source": [
        "The above plot show us that the percentage of poeple who eat fruits and vegetables less than one time daily are pretty high due to which people of michigan are prone to high cardiovascular diseases."
      ]
    },
    {
      "cell_type": "markdown",
      "metadata": {
        "id": "v_8O_sZwVLQ9"
      },
      "source": [
        "###Obesity\n",
        "Obesity is becoming a global epidemic in both children and adults.In fact, obesity is an independent risk factor for CVD, and CVD risks have also been documented in obese children. Obesity is associated with an increased risk of morbidity and mortality as well as reduced life expectancy.\n",
        "###Assumption:\n",
        "We are assuming that obesity may be one of the cause for cardiovascular disease and so we are analysing the percentage of poeple who are obese in michigan \n"
      ]
    },
    {
      "cell_type": "code",
      "metadata": {
        "id": "BP-_HSDB7OjR"
      },
      "source": [
        "obesityData=riskFactorNutrition[(riskFactorNutrition['Class']=='Obesity / Weight Status') & (riskFactorNutrition['Total']=='Total')]"
      ],
      "execution_count": null,
      "outputs": []
    },
    {
      "cell_type": "code",
      "metadata": {
        "id": "Q7WT1ynr8kg9",
        "colab": {
          "base_uri": "https://localhost:8080/",
          "height": 295
        },
        "outputId": "2a78f4f5-175f-4b81-e83b-aa9ff5cef429"
      },
      "source": [
        "'''\n",
        "sb.barplot(x=\"YearStart\", y=\"Data_Value\", hue=\"Question\", ci=None,\n",
        "            data=obesityData)\n",
        "plt.title(\"Obesity report over the years\")\n",
        "plt.xlabel(\"Year\")\n",
        "plt.ylabel(\"Percentage\")\n",
        "'''\n",
        "\n",
        "fig, ax = plt.subplots()\n",
        "\n",
        "labels = [ '\\n'.join(wrap(l, 150)) for l in obesityData['Question']]\n",
        "\n",
        "sb.barplot(x=\"YearStart\", y=\"Data_Value\", hue=\"Question\", ci=None,\n",
        "            data=obesityData)\n",
        "plt.title(\"Obesity report over the years\")\n",
        "plt.xlabel(\"Year\")\n",
        "plt.ylabel(\"Percentage\")\n",
        "\n",
        "ax.legend(labels, bbox_to_anchor=(1, 0.5))\n",
        "ax.grid(False)\n",
        "\n",
        "plt.subplots_adjust(left=0.1, right = 0.7)\n",
        "plt.show()\n"
      ],
      "execution_count": null,
      "outputs": [
        {
          "output_type": "display_data",
          "data": {
            "image/png": "[encoded data removed]",
            "text/plain": [
              "<matplotlib.figure.Figure at 0x7f215db815f8>"
            ]
          },
          "metadata": {
            "tags": []
          }
        }
      ]
    },
    {
      "cell_type": "markdown",
      "metadata": {
        "id": "jT8ZLtHHeU0D"
      },
      "source": [
        "From the above plot we found out that the percentage of poeple aged 18 years and above is high and this may be one of the reason why michigan state people are more towards cardiovascular disease."
      ]
    },
    {
      "cell_type": "markdown",
      "metadata": {
        "id": "tx2PFdb5fkMY"
      },
      "source": [
        "###Tobacco Intake\n",
        "Smoking is a major cause of cardiovascular disease (CVD) and causes\n",
        "approximately one of every four deaths from CVD.Even people who smoke fewer than five cigarettes a day may show signs of early CVD. The risk of CVD increases with the number of cigarettes smokedper day, and when smoking continues for many years. Smoking cigarettes\n",
        "with lower levels of tar or nicotine does not reduce the risk for cardiovascular\n",
        "disease.\n",
        "\n",
        "###Assumption:\n",
        "We are assuming that smoking is also one of the major cause for CVD. So we are finding how smoking habit has changed over years.\n",
        "\n"
      ]
    },
    {
      "cell_type": "code",
      "metadata": {
        "id": "rHI1mnNSBCRj"
      },
      "source": [
        "tobacoFactor=tobacoFactor[(tobacoFactor['LocationAbbr']=='MI') &(tobacoFactor['MeasureDesc']=='Current Smoking')]"
      ],
      "execution_count": null,
      "outputs": []
    },
    {
      "cell_type": "markdown",
      "metadata": {
        "id": "i9_iIAsHhRcg"
      },
      "source": [
        "Plotting the trend graph to understand percentage amount of decrease or increase in current smokers in michigan and correlate with the heart disease trend."
      ]
    },
    {
      "cell_type": "code",
      "metadata": {
        "id": "cQU-1X0CAx8F",
        "colab": {
          "base_uri": "https://localhost:8080/",
          "height": 399
        },
        "outputId": "f7bec8d6-ebf8-4f9e-de2a-2765e6c9323a"
      },
      "source": [
        "sb.catplot(x=\"YEAR\", y=\"Data_Value\", ci=None,\n",
        "            data=tobacoFactor,kind='point',linestyles=[\"--\"])\n",
        "plt.title(\"smoking habit over the years\")\n",
        "plt.xlabel(\"Year\")\n",
        "plt.ylabel(\"Percentage\")"
      ],
      "execution_count": null,
      "outputs": [
        {
          "output_type": "execute_result",
          "data": {
            "text/plain": [
              "Text(0.3,0.5,'Percentage')"
            ]
          },
          "metadata": {
            "tags": []
          },
          "execution_count": 80
        },
        {
          "output_type": "display_data",
          "data": {
            "image/png": "[encoded data removed]",
            "text/plain": [
              "<matplotlib.figure.Figure at 0x7f215df77c88>"
            ]
          },
          "metadata": {
            "tags": []
          }
        }
      ]
    },
    {
      "cell_type": "markdown",
      "metadata": {
        "id": "rTnlcIwBhvoo"
      },
      "source": [
        "The above graph shows people are adopting healthy habits as there is good amount of decline in percentage of smokers in michigan, which can keep them from major heart risks. "
      ]
    },
    {
      "cell_type": "markdown",
      "metadata": {
        "id": "dmnSNqeoit_M"
      },
      "source": [
        "####Obesity and heart diseases reported by various Cities in Michigan\n",
        "\n",
        "Here, we are exploring citiesData data set and analyse which cities are reporting higher percentage of Obesity and Heart disease."
      ]
    },
    {
      "cell_type": "code",
      "metadata": {
        "id": "ve1X38zEGpTO"
      },
      "source": [
        "cityHeart=citiesData[(citiesData['StateAbbr']=='MI')&(citiesData['Measure']=='Coronary heart disease among adults aged >=18 Years')&(citiesData['DataValueTypeID']=='AgeAdjPrv')]"
      ],
      "execution_count": null,
      "outputs": []
    },
    {
      "cell_type": "code",
      "metadata": {
        "id": "SmNM7tKbGwNK"
      },
      "source": [
        "cityObesity=citiesData[(citiesData['StateAbbr']=='MI')&(citiesData['Measure']=='Obesity among adults aged >=18 Years')&(citiesData['DataValueTypeID']=='AgeAdjPrv')]"
      ],
      "execution_count": null,
      "outputs": []
    },
    {
      "cell_type": "markdown",
      "metadata": {
        "id": "jBO8SPZpmk7e"
      },
      "source": [
        "cityHeart data set contains list of  cities with thier percentage of Heart disease reported. Plotting the data to check which city is in the top of the list for year 2016."
      ]
    },
    {
      "cell_type": "code",
      "metadata": {
        "id": "L0JKzdI3G1dt",
        "colab": {
          "base_uri": "https://localhost:8080/",
          "height": 335
        },
        "outputId": "bf33e594-551b-4eb1-d7bf-76a35de714d0"
      },
      "source": [
        "plt.figure(figsize=(12,4))\n",
        "# plot chart\n",
        "\n",
        "ax=sb.barplot(data=cityHeart,x='CityName', y = 'Data_Value')\n",
        "plt.setp(ax.get_xticklabels(), rotation=30, horizontalalignment='right')\n",
        "plt.title(\"Percentage of Heart diseases reported by various cities\")\n",
        "plt.ylabel(\"Percentage\")\n",
        "plt.show()"
      ],
      "execution_count": null,
      "outputs": [
        {
          "output_type": "display_data",
          "data": {
            "image/png": "[encoded data removed]",
            "text/plain": [
              "<matplotlib.figure.Figure at 0x7f215df4d780>"
            ]
          },
          "metadata": {
            "tags": []
          }
        }
      ]
    },
    {
      "cell_type": "markdown",
      "metadata": {
        "id": "k9pYyGVAUuHx"
      },
      "source": [
        "Above grapg shows Flint has highest number of heart disease  reported  and Detroint is in the 2nd position."
      ]
    },
    {
      "cell_type": "markdown",
      "metadata": {
        "id": "9xA7r8rYlgQs"
      },
      "source": [
        "Next, checking for city which reported the highest obesity percentage ."
      ]
    },
    {
      "cell_type": "code",
      "metadata": {
        "id": "qtqeKBSgG4X2",
        "colab": {
          "base_uri": "https://localhost:8080/",
          "height": 335
        },
        "outputId": "20ac249e-4938-4e2e-a6e6-e436455edb3f"
      },
      "source": [
        "plt.figure(figsize=(12,4))\n",
        "# plot chart\n",
        "\n",
        "ax=sb.barplot(data=cityObesity,x='CityName', y = 'Data_Value')\n",
        "plt.setp(ax.get_xticklabels(), rotation=30, horizontalalignment='right')\n",
        "plt.title(\"Percentage of obesity reported by various cities\")\n",
        "plt.ylabel(\"Percentage\")\n",
        "plt.show()"
      ],
      "execution_count": null,
      "outputs": [
        {
          "output_type": "display_data",
          "data": {
            "image/png": "[encoded data removed]",
            "text/plain": [
              "<matplotlib.figure.Figure at 0x7f21623d4b38>"
            ]
          },
          "metadata": {
            "tags": []
          }
        }
      ]
    },
    {
      "cell_type": "markdown",
      "metadata": {
        "id": "0sFmRRcAlwRu"
      },
      "source": [
        "\n",
        "\n",
        "Top 3 cities which reported highest obesity is Detroit,Flint and Kalamazoo.It may be because of residents un healthy diet ,hereditary and physical activities .\n",
        "\n",
        "The above two plots depicts that cities which are more prone to cardiovascular disease are also the cities with highest obesity rate."
      ]
    },
    {
      "cell_type": "markdown",
      "metadata": {
        "id": "32xXpEDvmy8Z"
      },
      "source": [
        "Studies have shown that over the past four decades, consumption of food eaten away from home has also risen alarmingly. It is well known that eating out may lead to excess calorie intake and increases the risk of obesity because of large portion sizes and increased energy density of foods.\n",
        "\n",
        "Presence of large number of fast food restaurants makes human beings easy access to unhealthy food. So to undrstand the cities with higher obesity may be due to presence of abundant access to fast food ,we scraped yelp website and listed out the fast food restaurants and thier ratings and saved it to file.\n",
        "\n",
        "fastFoodRestaurants data set contains restaurant name,rating and city which the shop located in.\n",
        "Lets assume that good rated restaurants draws more customers ,in turn causes obesity among people. "
      ]
    },
    {
      "cell_type": "code",
      "metadata": {
        "id": "HXulLko-Dun4"
      },
      "source": [
        "fastFoodRestaurants=fastFoodRestaurants[fastFoodRestaurants['rating']>=3]\n",
        "fastFoodRestaurants = fastFoodRestaurants.groupby(['city','rating']).size().unstack()"
      ],
      "execution_count": null,
      "outputs": []
    },
    {
      "cell_type": "markdown",
      "metadata": {
        "id": "6pTLd20boQoe"
      },
      "source": [
        "To check the count of different rated fast food restaurants and compare it with other cities, ploting stacked bar plot."
      ]
    },
    {
      "cell_type": "code",
      "metadata": {
        "id": "0UilSztvD3VJ",
        "colab": {
          "base_uri": "https://localhost:8080/",
          "height": 360
        },
        "outputId": "2bb0df97-6577-4376-a953-86eeabbe020b"
      },
      "source": [
        "fastFoodRestaurants.plot(kind='bar',stacked='true')\n",
        "plt.title('Fast food restaurants ratings in cities')\n",
        "plt.ylabel('count')"
      ],
      "execution_count": null,
      "outputs": [
        {
          "output_type": "execute_result",
          "data": {
            "text/plain": [
              "Text(0,0.5,'count')"
            ]
          },
          "metadata": {
            "tags": []
          },
          "execution_count": 86
        },
        {
          "output_type": "display_data",
          "data": {
            "image/png": "[encoded data removed]",
            "text/plain": [
              "<matplotlib.figure.Figure at 0x7f215f19ada0>"
            ]
          },
          "metadata": {
            "tags": []
          }
        }
      ]
    },
    {
      "cell_type": "markdown",
      "metadata": {
        "id": "_EjkTe9qobVC"
      },
      "source": [
        "The above plot shows there exists good number of fast food dinning options in all the 4 cities . Detroit and Flint has good number of restaurants rated 3.5 and 4 ,which may be making them top in the list of obesity reported cities."
      ]
    },
    {
      "cell_type": "markdown",
      "metadata": {
        "id": "edowys-Go9EM"
      },
      "source": [
        "###Conclusion:\n",
        "<br>\n",
        "\n",
        "1.Michigan's death rate is decreasing in good rate over the years.But its above the national average.\n",
        "\n",
        "2.Tobacco is the only risk factor which has decreased over years. Rest of the risk factors shows an increase in the years which is  not a good sign and this may be one of the reason for increase in death rates in michigan.\n",
        "\n",
        "3.We can assume good rated fast food restaurants in various cities drwaing more customers,which may be associated with high obesity percentages in those cities.\n",
        "\n",
        "By seeing above analysis, we believe more awareness regarding healthy lifestyle need to be created among people so that there will be more reduction in number of deaths caused due to cardio vascular problems.\n"
      ]
    },
    {
      "cell_type": "markdown",
      "metadata": {
        "id": "5PiJuklOzgjJ"
      },
      "source": [
        "Below is the code for  Scraping yelp website to list out fast food restaurants in Ann Arbor, Flint,Detroit and Farmington Hills."
      ]
    },
    {
      "cell_type": "code",
      "metadata": {
        "id": "P-gUpnm_zMMS",
        "colab": {
          "base_uri": "https://localhost:8080/",
          "height": 1074
        },
        "outputId": "a680d113-c586-4c71-8a93-cef448fe965a"
      },
      "source": [
        "from IPython.core.debugger import set_trace\n",
        "from lxml import html  \n",
        "import csv\n",
        "import requests\n",
        "from random import randint\n",
        "from time import sleep\n",
        "#from exceptions import ValueError\n",
        "from time import sleep\n",
        "import re\n",
        "import argparse\n",
        "\n",
        "scraped_datas=[]\n",
        "MAX_SLEEP = 20000 \n",
        "def page_to_index(start,end,step):\n",
        "    while start <= end:\n",
        "        yield start\n",
        "        start += step\n",
        "        \n",
        "def urls(base_url):\n",
        "    url_list = []\n",
        "    cities=['Ann%20Arbor%20MI','Farmington%20Hills%20MI','Detroit%20MI','Flint%20MI']\n",
        "    for i in cities:\n",
        "        url=base_url+i+'&ns=1&start='\n",
        "        for x in page_to_index(0, 120, 30):\n",
        "            newurl=url+str(x)\n",
        "            url_list.append(newurl)\n",
        "    return url_list\n",
        "\n",
        "def r_sleep():\n",
        "\n",
        "\n",
        "    length = float(randint(2000, MAX_SLEEP)) / 1000\n",
        "    sleep(length)\n",
        "    print('slept')\n",
        "    \n",
        "def parse(url):\n",
        "    headers = {'User-Agent': 'Mozilla/5.0 (X11; Linux x86_64) AppleWebKit/537.36 (KHTML, like Gecko) Chrome/42.0.2311.90 Safari/537.36'}\n",
        "    response = requests.get(url, headers=headers, verify=False).text\n",
        "    parser = html.fromstring(response)\n",
        "    listing = parser.xpath(\"//li[@class='regular-search-result']\")\n",
        "    total_results = parser.xpath(\"//span[@class='pagination-results-window']//text()\")\n",
        "    \n",
        "    \n",
        "    print(total_results)\n",
        "    \n",
        "    for results in listing:\n",
        "        raw_position = results.xpath(\".//span[@class='indexed-biz-name']/text()\")\t\n",
        "        raw_name = results.xpath(\".//span[@class='indexed-biz-name']/a//text()\")\n",
        "        raw_ratings = results.xpath(\".//div[contains(@class,'rating-large')]//@title\")\n",
        "        raw_review_count = results.xpath(\".//span[contains(@class,'review-count')]//text()\")\n",
        "        raw_price_range = results.xpath(\".//span[contains(@class,'price-range')]//text()\")\n",
        "        category_list = results.xpath(\".//span[contains(@class,'category-str-list')]//a//text()\")\n",
        "        raw_address = results.xpath(\".//address//text()\")\n",
        "        name = ''.join(raw_name).strip()\n",
        "       \n",
        "        cleaned_reviews = ''.join(raw_review_count).strip()\n",
        "        reviews =  re.sub(\"\\D+\",\"\",cleaned_reviews)\n",
        "        categories = ','.join(category_list) \n",
        "        cleaned_ratings = ''.join(raw_ratings).strip()\n",
        "        if raw_ratings:\n",
        "            ratings = re.findall(\"\\d+[.,]?\\d+\",cleaned_ratings)[0]\n",
        "        else:\n",
        "            ratings = 0\n",
        "        price_range = len(''.join(raw_price_range)) if raw_price_range else 0\n",
        "        address  = ' '.join(' '.join(raw_address).split())\n",
        "        \n",
        "        if 'Detroit' in url:\n",
        "            city='Detroit'\n",
        "        elif 'Farmington' in url:\n",
        "            city='Farmington'\n",
        "        elif 'Flint' in url:\n",
        "            city='Flint'\n",
        "        else:\n",
        "            city='Ann Arbor'\n",
        "                \n",
        "        \n",
        "            \n",
        "        data={\n",
        "                'business_name':name,\n",
        "                'review_count':reviews,\n",
        "                'categories':categories,\n",
        "                'rating':ratings,\n",
        "                'address':address,\n",
        "                'city':city\n",
        "                }\n",
        "        scraped_datas.append(data)\n",
        "       \n",
        "    return scraped_datas\n",
        "\n",
        "if __name__==\"__main__\":\n",
        "    \n",
        "    yelp_urls  = urls(\"https://www.yelp.com/search?find_desc=Fast%20Food&find_loc=\")\n",
        "    \n",
        "    for yelp_url in yelp_urls:\n",
        "        \n",
        "        \n",
        "        scraped_data = parse(yelp_url)\n",
        "        \n",
        "    \n",
        "    print (\"Writing data to output file\")\n",
        "    with open(\"scraped_yelp_results_for_FastFood2.csv\",\"w\") as fp:\n",
        "        fieldnames= ['business_name','rank','review_count','categories','rating','address','city']\n",
        "        writer = csv.DictWriter(fp,fieldnames=fieldnames)\n",
        "        writer.writeheader()\n",
        "        for data in scraped_data:\n",
        "            writer.writerow(data)"
      ],
      "execution_count": null,
      "outputs": [
        {
          "output_type": "stream",
          "text": [
            "/usr/local/lib/python3.6/dist-packages/urllib3/connectionpool.py:858: InsecureRequestWarning: Unverified HTTPS request is being made. Adding certificate verification is strongly advised. See: https://urllib3.readthedocs.io/en/latest/advanced-usage.html#ssl-warnings\n",
            "  InsecureRequestWarning)\n"
          ],
          "name": "stderr"
        },
        {
          "output_type": "stream",
          "text": [
            "[]\n"
          ],
          "name": "stdout"
        },
        {
          "output_type": "stream",
          "text": [
            "/usr/local/lib/python3.6/dist-packages/urllib3/connectionpool.py:858: InsecureRequestWarning: Unverified HTTPS request is being made. Adding certificate verification is strongly advised. See: https://urllib3.readthedocs.io/en/latest/advanced-usage.html#ssl-warnings\n",
            "  InsecureRequestWarning)\n"
          ],
          "name": "stderr"
        },
        {
          "output_type": "stream",
          "text": [
            "[]\n"
          ],
          "name": "stdout"
        },
        {
          "output_type": "stream",
          "text": [
            "/usr/local/lib/python3.6/dist-packages/urllib3/connectionpool.py:858: InsecureRequestWarning: Unverified HTTPS request is being made. Adding certificate verification is strongly advised. See: https://urllib3.readthedocs.io/en/latest/advanced-usage.html#ssl-warnings\n",
            "  InsecureRequestWarning)\n"
          ],
          "name": "stderr"
        },
        {
          "output_type": "stream",
          "text": [
            "[]\n"
          ],
          "name": "stdout"
        },
        {
          "output_type": "stream",
          "text": [
            "/usr/local/lib/python3.6/dist-packages/urllib3/connectionpool.py:858: InsecureRequestWarning: Unverified HTTPS request is being made. Adding certificate verification is strongly advised. See: https://urllib3.readthedocs.io/en/latest/advanced-usage.html#ssl-warnings\n",
            "  InsecureRequestWarning)\n"
          ],
          "name": "stderr"
        },
        {
          "output_type": "stream",
          "text": [
            "[]\n"
          ],
          "name": "stdout"
        },
        {
          "output_type": "stream",
          "text": [
            "/usr/local/lib/python3.6/dist-packages/urllib3/connectionpool.py:858: InsecureRequestWarning: Unverified HTTPS request is being made. Adding certificate verification is strongly advised. See: https://urllib3.readthedocs.io/en/latest/advanced-usage.html#ssl-warnings\n",
            "  InsecureRequestWarning)\n"
          ],
          "name": "stderr"
        },
        {
          "output_type": "stream",
          "text": [
            "[]\n"
          ],
          "name": "stdout"
        },
        {
          "output_type": "stream",
          "text": [
            "/usr/local/lib/python3.6/dist-packages/urllib3/connectionpool.py:858: InsecureRequestWarning: Unverified HTTPS request is being made. Adding certificate verification is strongly advised. See: https://urllib3.readthedocs.io/en/latest/advanced-usage.html#ssl-warnings\n",
            "  InsecureRequestWarning)\n"
          ],
          "name": "stderr"
        },
        {
          "output_type": "stream",
          "text": [
            "[]\n"
          ],
          "name": "stdout"
        },
        {
          "output_type": "stream",
          "text": [
            "/usr/local/lib/python3.6/dist-packages/urllib3/connectionpool.py:858: InsecureRequestWarning: Unverified HTTPS request is being made. Adding certificate verification is strongly advised. See: https://urllib3.readthedocs.io/en/latest/advanced-usage.html#ssl-warnings\n",
            "  InsecureRequestWarning)\n"
          ],
          "name": "stderr"
        },
        {
          "output_type": "stream",
          "text": [
            "[]\n"
          ],
          "name": "stdout"
        },
        {
          "output_type": "stream",
          "text": [
            "/usr/local/lib/python3.6/dist-packages/urllib3/connectionpool.py:858: InsecureRequestWarning: Unverified HTTPS request is being made. Adding certificate verification is strongly advised. See: https://urllib3.readthedocs.io/en/latest/advanced-usage.html#ssl-warnings\n",
            "  InsecureRequestWarning)\n"
          ],
          "name": "stderr"
        },
        {
          "output_type": "stream",
          "text": [
            "[]\n"
          ],
          "name": "stdout"
        },
        {
          "output_type": "stream",
          "text": [
            "/usr/local/lib/python3.6/dist-packages/urllib3/connectionpool.py:858: InsecureRequestWarning: Unverified HTTPS request is being made. Adding certificate verification is strongly advised. See: https://urllib3.readthedocs.io/en/latest/advanced-usage.html#ssl-warnings\n",
            "  InsecureRequestWarning)\n"
          ],
          "name": "stderr"
        },
        {
          "output_type": "stream",
          "text": [
            "[]\n"
          ],
          "name": "stdout"
        },
        {
          "output_type": "stream",
          "text": [
            "/usr/local/lib/python3.6/dist-packages/urllib3/connectionpool.py:858: InsecureRequestWarning: Unverified HTTPS request is being made. Adding certificate verification is strongly advised. See: https://urllib3.readthedocs.io/en/latest/advanced-usage.html#ssl-warnings\n",
            "  InsecureRequestWarning)\n"
          ],
          "name": "stderr"
        },
        {
          "output_type": "stream",
          "text": [
            "[]\n"
          ],
          "name": "stdout"
        },
        {
          "output_type": "stream",
          "text": [
            "/usr/local/lib/python3.6/dist-packages/urllib3/connectionpool.py:858: InsecureRequestWarning: Unverified HTTPS request is being made. Adding certificate verification is strongly advised. See: https://urllib3.readthedocs.io/en/latest/advanced-usage.html#ssl-warnings\n",
            "  InsecureRequestWarning)\n"
          ],
          "name": "stderr"
        },
        {
          "output_type": "stream",
          "text": [
            "[]\n"
          ],
          "name": "stdout"
        },
        {
          "output_type": "stream",
          "text": [
            "/usr/local/lib/python3.6/dist-packages/urllib3/connectionpool.py:858: InsecureRequestWarning: Unverified HTTPS request is being made. Adding certificate verification is strongly advised. See: https://urllib3.readthedocs.io/en/latest/advanced-usage.html#ssl-warnings\n",
            "  InsecureRequestWarning)\n"
          ],
          "name": "stderr"
        },
        {
          "output_type": "stream",
          "text": [
            "[]\n"
          ],
          "name": "stdout"
        },
        {
          "output_type": "stream",
          "text": [
            "/usr/local/lib/python3.6/dist-packages/urllib3/connectionpool.py:858: InsecureRequestWarning: Unverified HTTPS request is being made. Adding certificate verification is strongly advised. See: https://urllib3.readthedocs.io/en/latest/advanced-usage.html#ssl-warnings\n",
            "  InsecureRequestWarning)\n"
          ],
          "name": "stderr"
        },
        {
          "output_type": "stream",
          "text": [
            "[]\n"
          ],
          "name": "stdout"
        },
        {
          "output_type": "stream",
          "text": [
            "/usr/local/lib/python3.6/dist-packages/urllib3/connectionpool.py:858: InsecureRequestWarning: Unverified HTTPS request is being made. Adding certificate verification is strongly advised. See: https://urllib3.readthedocs.io/en/latest/advanced-usage.html#ssl-warnings\n",
            "  InsecureRequestWarning)\n"
          ],
          "name": "stderr"
        },
        {
          "output_type": "stream",
          "text": [
            "[]\n"
          ],
          "name": "stdout"
        },
        {
          "output_type": "stream",
          "text": [
            "/usr/local/lib/python3.6/dist-packages/urllib3/connectionpool.py:858: InsecureRequestWarning: Unverified HTTPS request is being made. Adding certificate verification is strongly advised. See: https://urllib3.readthedocs.io/en/latest/advanced-usage.html#ssl-warnings\n",
            "  InsecureRequestWarning)\n"
          ],
          "name": "stderr"
        },
        {
          "output_type": "stream",
          "text": [
            "[]\n"
          ],
          "name": "stdout"
        },
        {
          "output_type": "stream",
          "text": [
            "/usr/local/lib/python3.6/dist-packages/urllib3/connectionpool.py:858: InsecureRequestWarning: Unverified HTTPS request is being made. Adding certificate verification is strongly advised. See: https://urllib3.readthedocs.io/en/latest/advanced-usage.html#ssl-warnings\n",
            "  InsecureRequestWarning)\n"
          ],
          "name": "stderr"
        },
        {
          "output_type": "stream",
          "text": [
            "[]\n"
          ],
          "name": "stdout"
        },
        {
          "output_type": "stream",
          "text": [
            "/usr/local/lib/python3.6/dist-packages/urllib3/connectionpool.py:858: InsecureRequestWarning: Unverified HTTPS request is being made. Adding certificate verification is strongly advised. See: https://urllib3.readthedocs.io/en/latest/advanced-usage.html#ssl-warnings\n",
            "  InsecureRequestWarning)\n"
          ],
          "name": "stderr"
        },
        {
          "output_type": "stream",
          "text": [
            "[]\n"
          ],
          "name": "stdout"
        },
        {
          "output_type": "stream",
          "text": [
            "/usr/local/lib/python3.6/dist-packages/urllib3/connectionpool.py:858: InsecureRequestWarning: Unverified HTTPS request is being made. Adding certificate verification is strongly advised. See: https://urllib3.readthedocs.io/en/latest/advanced-usage.html#ssl-warnings\n",
            "  InsecureRequestWarning)\n"
          ],
          "name": "stderr"
        },
        {
          "output_type": "stream",
          "text": [
            "[]\n"
          ],
          "name": "stdout"
        },
        {
          "output_type": "stream",
          "text": [
            "/usr/local/lib/python3.6/dist-packages/urllib3/connectionpool.py:858: InsecureRequestWarning: Unverified HTTPS request is being made. Adding certificate verification is strongly advised. See: https://urllib3.readthedocs.io/en/latest/advanced-usage.html#ssl-warnings\n",
            "  InsecureRequestWarning)\n"
          ],
          "name": "stderr"
        },
        {
          "output_type": "stream",
          "text": [
            "[]\n"
          ],
          "name": "stdout"
        },
        {
          "output_type": "stream",
          "text": [
            "/usr/local/lib/python3.6/dist-packages/urllib3/connectionpool.py:858: InsecureRequestWarning: Unverified HTTPS request is being made. Adding certificate verification is strongly advised. See: https://urllib3.readthedocs.io/en/latest/advanced-usage.html#ssl-warnings\n",
            "  InsecureRequestWarning)\n"
          ],
          "name": "stderr"
        },
        {
          "output_type": "stream",
          "text": [
            "[]\n",
            "Writing data to output file\n"
          ],
          "name": "stdout"
        }
      ]
    }
  ]
}